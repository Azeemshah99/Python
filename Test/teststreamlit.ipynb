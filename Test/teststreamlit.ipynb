{
 "cells": [
  {
   "cell_type": "code",
   "execution_count": 8,
   "metadata": {},
   "outputs": [
    {
     "name": "stdout",
     "output_type": "stream",
     "text": [
      "Mean Squared Error: 0.5558915986952442\n"
     ]
    }
   ],
   "source": [
    "import pandas as pd\n",
    "from sklearn.model_selection import train_test_split\n",
    "from sklearn.linear_model import LinearRegression  # Or another model\n",
    "# from sklearn.datasets import fetch_california_housing  # Example dataset\n",
    "\n",
    "# 1. Load data:\n",
    "import os\n",
    "import certifi\n",
    "\n",
    "os.environ['SSL_CERT_FILE'] = certifi.where()\n",
    "\n",
    "from sklearn.datasets import fetch_california_housing # Now import scikit-learn AFTER setting the variable\n",
    "\n",
    "housing = fetch_california_housing(as_frame=True)\n",
    "df = housing.frame  # Use the DataFrame directly\n",
    "\n",
    "# 2. Separate features (X) and target (y):\n",
    "X = df.drop('MedHouseVal', axis=1)  # Features (all columns except MedHouseVal)\n",
    "y = df['MedHouseVal']  # Target (median house value)\n",
    "\n",
    "# 3. Split into training and testing sets:\n",
    "X_train, X_test, y_train, y_test = train_test_split(X, y, test_size=0.2, random_state=42)\n",
    "\n",
    "# 4. Train a model:\n",
    "model = LinearRegression()  # Choose your model here\n",
    "model.fit(X_train, y_train)\n",
    "\n",
    "# 5. Make predictions:\n",
    "predictions = model.predict(X_test)\n",
    "\n",
    "# 6. (Optional) Evaluate (if you want to check how good the model is):\n",
    "from sklearn.metrics import mean_squared_error\n",
    "mse = mean_squared_error(y_test, predictions)\n",
    "print(f\"Mean Squared Error: {mse}\")\n",
    "\n",
    "# 7. (Optional) Use the model to predict on new data:\n",
    "# new_data = pd.DataFrame(...)  # Put your new data here\n",
    "# new_predictions = model.predict(new_data)\n",
    "# print(new_predictions)"
   ]
  },
  {
   "cell_type": "code",
   "execution_count": null,
   "metadata": {},
   "outputs": [],
   "source": [
    "\n",
    "# ... rest of your code"
   ]
  }
 ],
 "metadata": {
  "kernelspec": {
   "display_name": "Python 3",
   "language": "python",
   "name": "python3"
  },
  "language_info": {
   "codemirror_mode": {
    "name": "ipython",
    "version": 3
   },
   "file_extension": ".py",
   "mimetype": "text/x-python",
   "name": "python",
   "nbconvert_exporter": "python",
   "pygments_lexer": "ipython3",
   "version": "3.11.2"
  }
 },
 "nbformat": 4,
 "nbformat_minor": 2
}
